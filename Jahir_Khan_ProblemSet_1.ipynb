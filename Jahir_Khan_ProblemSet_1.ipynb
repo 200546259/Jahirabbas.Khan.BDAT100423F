{
 "cells": [
  {
   "cell_type": "markdown",
   "id": "e3f1cb84",
   "metadata": {},
   "source": [
    "### Question 1:\n",
    "What data type is each of the following?\n",
    "\n",
    "- `5` - Integer\n",
    "- `5.0` - Float\n",
    "- `5 > 1` - Boolean\n",
    "- `'5'` - String\n",
    "- `5 * 2` - Integer\n",
    "- `'5' * 2` - String\n",
    "- `'5' + '2'` - String\n",
    "- `5 / 2` - Float\n",
    "- `5 % 2` - Integer\n",
    "- `{5, 2, 1}` - Set\n",
    "- `5 == 3` - Boolean\n",
    "- `Pi` (double)\n"
   ]
  },
  {
   "cell_type": "code",
   "execution_count": 1,
   "metadata": {
    "dotnet_interactive": {
     "language": "csharp"
    },
    "polyglot_notebook": {
     "kernelName": "csharp"
    }
   },
   "outputs": [
    {
     "name": "stdout",
     "output_type": "stream",
     "text": [
      "The data type of 5 is System.Int32\n",
      "The data type of 5 is System.Double\n",
      "The data type of True is System.Boolean\n",
      "The data type of 5 is System.String\n",
      "The data type of 10 is System.Int32\n",
      "The data type of 52 is System.String\n",
      "The data type of 52 is System.String\n",
      "The data type of 2.5 is System.Double\n",
      "The data type of 1 is System.Int32\n",
      "The data type of System.Collections.Generic.HashSet`1[System.Int32] is System.Collections.Generic.HashSet`1[System.Int32]\n",
      "The data type of 3.141592653589793 is System.Double\n"
     ]
    }
   ],
   "source": [
    "var expressions = new object[]\n",
    "{\n",
    "    5,\n",
    "    5.0,\n",
    "    5 > 1,\n",
    "    \"5\",\n",
    "    5 * 2,\n",
    "    \"5\" + \"2\",\n",
    "    \"5\" + 2, // string concatenation\n",
    "    5.0 / 2,\n",
    "    5 % 2,\n",
    "\n",
    "    # reference for set https://stackoverflow.com/questions/14882287/using-hashsetint-to-create-an-integer-set\n",
    "    new HashSet<int> { 5, 2, 1 },  //HashSet<int>: Create a HashSet in c# like python set {5, 2, 1}  \n",
    "\n",
    "    Math.PI // Pi\n",
    "};\n",
    "\n",
    "foreach (var expr in expressions)\n",
    "{\n",
    "    var dataType = expr.GetType();\n",
    "    Console.WriteLine($\"The data type of {expr} is {dataType}\");\n",
    "}"
   ]
  },
  {
   "cell_type": "code",
   "execution_count": null,
   "metadata": {
    "dotnet_interactive": {
     "language": "csharp"
    },
    "polyglot_notebook": {
     "kernelName": "csharp"
    }
   },
   "outputs": [],
   "source": []
  },
  {
   "cell_type": "markdown",
   "id": "95865123",
   "metadata": {},
   "source": [
    "### Question 2 C#\n",
    "\n",
    "Write (and evaluate) C# expressions that answer these questions:\n",
    "\n",
    "a. How many letters are there in 'Supercalifragilisticexpialidocious'?\n",
    "\n",
    "b. Does 'Supercalifragilisticexpialidocious' contain 'ice' as a substring?\n",
    "\n",
    "c. Which of the following words is the longest: Supercalifragilisticexpialidocious, Honorificabilitudinitatibus, or Bababadalgharaghtakamminarronnkonn?\n",
    "\n",
    "d. Which composer comes first in the dictionary: 'Berlioz', 'Borodin', 'Brian', 'Bartok', 'Bellini', 'Buxtehude', 'Bernstein'? Which one comes last?\n",
    "\n"
   ]
  },
  {
   "cell_type": "code",
   "execution_count": 2,
   "metadata": {
    "dotnet_interactive": {
     "language": "csharp"
    },
    "polyglot_notebook": {
     "kernelName": "csharp"
    }
   },
   "outputs": [
    {
     "name": "stdout",
     "output_type": "stream",
     "text": [
      "a. There are 34 letters in 'Supercalifragilisticexpialidocious'.\n",
      "b. Does 'Supercalifragilisticexpialidocious' contain 'ice' as a substring? True\n",
      "c. The longest word is 'Supercalifragilisticexpialidocious'.\n",
      "d. First composer in the dictionary: Bartok, Last composer: Buxtehude\n"
     ]
    }
   ],
   "source": [
    "string text = \"Supercalifragilisticexpialidocious\";\n",
    "string substring = \"ice\";\n",
    "string[] words = {\n",
    "    \"Supercalifragilisticexpialidocious\",\n",
    "    \"Honorificabilitudinitatibus\",\n",
    "    \"Bababadalgharaghtakamminarronnkonn\"\n",
    "};\n",
    "\n",
    "string[] composers = {\n",
    "    \"Berlioz\", \"Borodin\", \"Brian\", \"Bartok\", \"Bellini\", \"Buxtehude\", \"Bernstein\"\n",
    "};\n",
    "\n",
    "\n",
    "\n",
    "// a. How many letters are there in 'Supercalifragilisticexpialidocious'?\n",
    "int letterCount = text.Length;\n",
    "\n",
    "\n",
    "\n",
    "// b. Does 'Supercalifragilisticexpialidocious' contain 'ice' as a substring?\n",
    "bool containsSubstring = text.Contains(substring);\n",
    "\n",
    "\n",
    "\n",
    "// c. Which of the following words is the longest?\n",
    "string longestWord = words.OrderByDescending(w => w.Length).First();\n",
    "\n",
    "\n",
    "\n",
    "// d. Which composer comes first and last in the dictionary?\n",
    "string firstComposer = composers.OrderBy(c => c).First();\n",
    "string lastComposer = composers.OrderBy(c => c).Last();\n",
    "\n",
    "\n",
    "// outputs\n",
    "\n",
    "Console.WriteLine($\"a. There are {letterCount} letters in '{text}'.\");\n",
    "Console.WriteLine($\"b. Does '{text}' contain '{substring}' as a substring? {containsSubstring}\");\n",
    "Console.WriteLine($\"c. The longest word is '{longestWord}'.\");\n",
    "Console.WriteLine($\"d. First composer in the dictionary: {firstComposer}, Last composer: {lastComposer}\");"
   ]
  },
  {
   "cell_type": "code",
   "execution_count": null,
   "metadata": {
    "dotnet_interactive": {
     "language": "csharp"
    },
    "polyglot_notebook": {
     "kernelName": "csharp"
    }
   },
   "outputs": [],
   "source": []
  },
  {
   "cell_type": "markdown",
   "id": "463cd3bf",
   "metadata": {},
   "source": [
    "### Question 3 C#\n",
    "\n",
    "Implement function triangleArea(a,b,c) that takes as input the lengths of the 3 \n",
    "sides of a triangle and returns the area of the triangle. By Heron's formula, the area \n",
    "of a triangle with side lengths a, b, and c is s(s − a)(s −b)(s −c), \n",
    "\n",
    "where\n",
    "s = (a + b + c)/2.\n",
    "\n",
    "\"\" >>> triangleArea(2,2,2) \"\n",
    "\n",
    "1.7320508075688772"
   ]
  },
  {
   "cell_type": "code",
   "execution_count": 3,
   "metadata": {
    "dotnet_interactive": {
     "language": "csharp"
    },
    "polyglot_notebook": {
     "kernelName": "csharp"
    }
   },
   "outputs": [
    {
     "data": {
      "text/html": [
       "<div class=\"dni-plaintext\"><pre>1.7320508075688772</pre></div><style>\r\n",
       ".dni-code-hint {\r\n",
       "    font-style: italic;\r\n",
       "    overflow: hidden;\r\n",
       "    white-space: nowrap;\r\n",
       "}\r\n",
       ".dni-treeview {\r\n",
       "    white-space: nowrap;\r\n",
       "}\r\n",
       ".dni-treeview td {\r\n",
       "    vertical-align: top;\r\n",
       "    text-align: start;\r\n",
       "}\r\n",
       "details.dni-treeview {\r\n",
       "    padding-left: 1em;\r\n",
       "}\r\n",
       "table td {\r\n",
       "    text-align: start;\r\n",
       "}\r\n",
       "table tr { \r\n",
       "    vertical-align: top; \r\n",
       "    margin: 0em 0px;\r\n",
       "}\r\n",
       "table tr td pre \r\n",
       "{ \r\n",
       "    vertical-align: top !important; \r\n",
       "    margin: 0em 0px !important;\r\n",
       "} \r\n",
       "table th {\r\n",
       "    text-align: start;\r\n",
       "}\r\n",
       "</style>"
      ]
     },
     "metadata": {},
     "output_type": "display_data"
    }
   ],
   "source": [
    "using System;\n",
    "\n",
    "double TriangleArea(double a, double b, double c)\n",
    "{\n",
    "    double s = (a + b + c) / 2;\n",
    "    double area = Math.Sqrt(s * (s - a) * (s - b) * (s - c));\n",
    "    return area;\n",
    "}\n",
    "\n",
    "Console.WriteLine(\"Enter the lengths of the sides of the triangle:\");\n",
    "Console.Write(\"Enter side a: \");\n",
    "double sideA = double.Parse(Console.ReadLine());\n",
    "\n",
    "Console.Write(\"Enter side b: \");\n",
    "double sideB = double.Parse(Console.ReadLine());\n",
    "\n",
    "Console.Write(\"Enter side c: \");\n",
    "double sideC = double.Parse(Console.ReadLine());\n",
    "\n",
    "double result = TriangleArea(sideA, sideB, sideC);\n",
    "Console.WriteLine($\"The area of the triangle is: {result}\");"
   ]
  },
  {
   "cell_type": "code",
   "execution_count": null,
   "id": "f7e8dd52",
   "metadata": {},
   "outputs": [],
   "source": []
  },
  {
   "cell_type": "markdown",
   "id": "73363b5d",
   "metadata": {},
   "source": [
    "### Question 4 C#\n",
    "\n",
    "##### Write a program in C# Sharp to separate odd and even integers in separate arrays.\n",
    "\n",
    "Go to the editor\n",
    "Test Data :\n",
    "\n",
    "Input the number of elements to be stored in the array :5 \n",
    "Input 5 elements in the array :\n",
    "\n",
    "element - 0 : 25\n",
    "\n",
    "element - 1 : 47\n",
    "\n",
    "element - 2 : 42\n",
    "\n",
    "element - 3 : 56\n",
    "\n",
    "element - 4 : 32 \n",
    "\n",
    "Expected Output:\n",
    "\n",
    "The Even elements are: \n",
    "\n",
    "42 56 32\n",
    "\n",
    "The Odd elements are :\n",
    "\n",
    "25 47 \n"
   ]
  },
  {
   "cell_type": "code",
   "execution_count": 3,
   "metadata": {
    "dotnet_interactive": {
     "language": "csharp"
    },
    "polyglot_notebook": {
     "kernelName": "csharp"
    }
   },
   "outputs": [
    {
     "name": "stdout",
     "output_type": "stream",
     "text": [
      "The Even elements are:\n",
      "42 56 32 \n",
      "The Odd elements are:\n",
      "25 47 "
     ]
    }
   ],
   "source": [
    "// Input the number of elements to be store is 5 as mentioned above\n",
    "int n = 5;\n",
    "\n",
    "int[] arr = new int[n];\n",
    "int[] evenArr = new int[n];  // even number of elements to be stored\n",
    "int[] oddArr = new int[n];  // odd number of elements to be stored\n",
    "\n",
    "// Input 5 elements in the array as  given above\n",
    "arr[0] = 25;\n",
    "arr[1] = 47;\n",
    "arr[2] = 42;\n",
    "arr[3] = 56;\n",
    "arr[4] = 32;\n",
    "\n",
    "int evenCount = 0;\n",
    "int oddCount = 0;\n",
    "\n",
    "foreach (int num in arr)  // loop over all elements in the array and store even number\n",
    "{\n",
    "    if (num % 2 == 0)\n",
    "    {\n",
    "        evenArr[evenCount] = num;\n",
    "        evenCount++;\n",
    "    }\n",
    "    else\n",
    "    {\n",
    "        oddArr[oddCount] = num;  // odd number of elements to be stored\n",
    "        oddCount++;\n",
    "    }\n",
    "}\n",
    "\n",
    "// Display the Even elements\n",
    "Console.WriteLine(\"The Even elements are:\");\n",
    "for (int i = 0; i < evenCount; i++)\n",
    "{\n",
    "    Console.Write(evenArr[i] + \" \");\n",
    "}\n",
    "\n",
    "// Display the Odd elements\n",
    "Console.WriteLine(\"\\nThe Odd elements are:\");\n",
    "for (int i = 0; i < oddCount; i++)\n",
    "{\n",
    "    Console.Write(oddArr[i] + \" \");\n",
    "}\n"
   ]
  },
  {
   "cell_type": "code",
   "execution_count": null,
   "id": "28d6dbdd",
   "metadata": {},
   "outputs": [],
   "source": []
  },
  {
   "cell_type": "markdown",
   "id": "43aa941d",
   "metadata": {},
   "source": [
    "Question 5 C#\n",
    "\n",
    "##### a. Write a function inside(x,y,x1,y1,x2,y2) that returns True or False depending on whether the point(x,y)lies in the rectangle with lower leftcorner (x1,y1) and upper right corner (x2,y2).\n",
    "\n",
    "> inside(1,1,0,0,2,3)\n",
    "\n",
    "True\n",
    "\n",
    "> inside(-1,-1,0,0,2,3)\n",
    "\n",
    "False\n",
    "\n",
    "##### b. Use function inside() from part a. to write an expression that tests whether the point (1,1) lies in both of the following rectangles: one with lower left corner (0.3, 0.5) and upper right corner (1.1, 0.7) and the other with lower left corner (0.5, 0.2) and upper right corner (1.1, 2)."
   ]
  },
  {
   "cell_type": "code",
   "execution_count": 4,
   "metadata": {
    "dotnet_interactive": {
     "language": "csharp"
    },
    "polyglot_notebook": {
     "kernelName": "csharp"
    }
   },
   "outputs": [
    {
     "name": "stdout",
     "output_type": "stream",
     "text": [
      "a. Does (1, 1) lie inside the rectangle (0, 0, 2, 3)? True\n",
      "   Does (-1, -1) lie inside the rectangle (0, 0, 2, 3)? False\n",
      "\n",
      "b. Does (1, 1) lie in the first rectangle? False\n",
      "   Does (1, 1) lie in the second rectangle? True\n"
     ]
    }
   ],
   "source": [
    "using System;\n",
    "\n",
    "// check if a point (x, y) is inside a rectangle as it defined by (x1, y1) and (x2, y2) in above equation\n",
    "bool Inside(double x, double y, double x1, double y1, double x2, double y2)\n",
    "{\n",
    "    return x >= x1 && x <= x2 && y >= y1 && y <= y2;\n",
    "}\n",
    "\n",
    "//if a point (x, y) is inside a rectangle as it defined\n",
    "bool resultA = Inside(1, 1, 0, 0, 2, 3);\n",
    "bool resultB = Inside(-1, -1, 0, 0, 2, 3);\n",
    "\n",
    "bool inRectangle1 = Inside(1, 1, 0.3, 0.5, 1.1, 0.7);\n",
    "bool inRectangle2 = Inside(1, 1, 0.5, 0.2, 1.1, 2);\n",
    "\n",
    "// Print results\n",
    "Console.WriteLine(\"a. Does (1, 1) lie inside the rectangle (0, 0, 2, 3)? \" + resultA);\n",
    "Console.WriteLine(\"   Does (-1, -1) lie inside the rectangle (0, 0, 2, 3)? \" + resultB);\n",
    "Console.WriteLine(\"\\nb. Does (1, 1) lie in the first rectangle? \" + inRectangle1);\n",
    "Console.WriteLine(\"   Does (1, 1) lie in the second rectangle? \" + inRectangle2);\n",
    "\n"
   ]
  },
  {
   "cell_type": "code",
   "execution_count": null,
   "metadata": {
    "dotnet_interactive": {
     "language": "csharp"
    },
    "polyglot_notebook": {
     "kernelName": "csharp"
    }
   },
   "outputs": [],
   "source": []
  },
  {
   "cell_type": "markdown",
   "id": "d738531b",
   "metadata": {},
   "source": [
    "### Question 6 Python\n",
    "### Pig Latin Transformation\n",
    "\n",
    "You can transform a word into Pig Latin using the following two rules:\n",
    "\n",
    "1. If the word starts with a consonant, move that letter to the end and append 'ay'. For example, 'happy' becomes 'appyhay,' and 'pencil' becomes 'encilpay.'\n",
    "\n",
    "2. If the word starts with a vowel, simply append 'way' to the end of the word. For example, 'enter' becomes 'enterway,' and 'other' becomes 'otherway.'\n",
    "\n",
    "For our purposes, there are 5 vowels: a, e, i, o, u (so we count y as a consonant).\n",
    "\n",
    "Write a function `pig()` that takes a word (i.e., a string) as input and returns its Pig Latin form. Your function should still work if the input word contains upper case characters. Your output should always be lower case, however.\n",
    "\n",
    "**Example Usage:**\n",
    "\n",
    "```python\n",
    "pig('happy')  # Output: 'appyhay'\n",
    "pig('Enter')  # Output: 'enterway'\n"
   ]
  },
  {
   "cell_type": "code",
   "execution_count": 2,
   "metadata": {
    "dotnet_interactive": {
     "language": "csharp"
    },
    "polyglot_notebook": {
     "kernelName": "csharp"
    }
   },
   "outputs": [
    {
     "name": "stdout",
     "output_type": "stream",
     "text": [
      "Pig Latin transformation: enterway\n"
     ]
    }
   ],
   "source": [
    "def pig(word):\n",
    "    # Convert the word to lowercase ad mentioned\n",
    "    word = word.lower()\n",
    "    \n",
    "    # if the word starts with a vowel\n",
    "    vowels = 'aeiou'\n",
    "    if word[0] in vowels:\n",
    "        # If it starts with a vowel, append 'way' to the end\n",
    "        pig_latin_word = word + 'way'\n",
    "    else:\n",
    "        # If it starts with a consonant, move the first letter to the end and append 'ay'\n",
    "        pig_latin_word = word[1:] + word[0] + 'ay'\n",
    "    \n",
    "    return pig_latin_word\n",
    "\n",
    "# Results\n",
    "user_input = input(\"Enter a word: \")\n",
    "result = pig(user_input)\n",
    "print(\"Pig Latin transformation:\", result)"
   ]
  },
  {
   "cell_type": "code",
   "execution_count": null,
   "id": "25431ffc",
   "metadata": {},
   "outputs": [],
   "source": []
  },
  {
   "cell_type": "markdown",
   "id": "bd5dab3f",
   "metadata": {},
   "source": [
    "### Question 7:\n",
    "### Blood Type Count\n",
    "\n",
    "You are given a file named `bloodtype.txt` that records the blood types of patients at a clinic. The blood types are represented as A, B, AB, O, or OO.\n",
    "\n",
    "Write a function `bldcount()` that reads the file with the name `name` and reports (i.e., prints) how many patients there are in each blood type.\n",
    "\n",
    "**Example Usage:**\n",
    "\n",
    "```python\n",
    "bldcount('bloodtype.txt')\n",
    "There are 10 patients of blood type A.\n",
    "There is one patient of blood type B.\n",
    "There are 10 patients of blood type AB.\n",
    "There are 12 patients of blood type O.\n",
    "There are no patients of blood type OO.\n"
   ]
  },
  {
   "cell_type": "code",
   "execution_count": 4,
   "id": "10b721dc",
   "metadata": {
    "dotnet_interactive": {
     "language": "csharp"
    },
    "polyglot_notebook": {
     "kernelName": "csharp"
    }
   },
   "outputs": [
    {
     "name": "stdout",
     "output_type": "stream",
     "text": [
      "There are 15 patients of blood type A\n",
      "There are 1 patients of blood type B\n",
      "There are 13 patients of blood type AB\n",
      "There are 15 patients of blood type O\n",
      "There are 0 patients of blood type OO\n"
     ]
    }
   ],
   "source": [
    "def bloodSamples(letter):  # Function to count the number of patients with a specific blood type\n",
    "    # Open the 'bloodtype1.txt' file for reading\n",
    "    infile = open('bloodtype1.txt')  # Open the 'bloodtype1.txt' \n",
    "    data = infile.read()\n",
    "\n",
    "    count = 0\n",
    "\n",
    "    for a in data.split(' '): # Split the data into individual blood type string\n",
    "        if letter == a:\n",
    "            count += 1\n",
    "    infile.close()\n",
    "    return int(count)\n",
    "\n",
    "# Function to perform blood type tests and display the results\n",
    "def bloodTest():\n",
    "    \n",
    "    print(f\"There are {bloodSamples('A')} patients of blood type A\")\n",
    "    print(f\"There are {bloodSamples('B')} patients of blood type B\")\n",
    "    print(f\"There are {bloodSamples('AB')} patients of blood type AB\")\n",
    "    print(f\"There are {bloodSamples('O')} patients of blood type O\")\n",
    "    print(f\"There are {bloodSamples('OO')} patients of blood type OO\")\n",
    "\n",
    "# Call the bloodTest() function to display the results\n",
    "bloodTest()\n"
   ]
  },
  {
   "cell_type": "code",
   "execution_count": null,
   "id": "c9db4821",
   "metadata": {},
   "outputs": [],
   "source": []
  },
  {
   "cell_type": "markdown",
   "id": "5b79b84d",
   "metadata": {},
   "source": [
    "### Question 8:\n",
    "### Currency Conversion\n",
    "\n",
    "Write a function `curconv()` that takes as input:\n",
    "\n",
    "1. A currency represented using a string (e.g., 'JPY' for the Japanese Yen or 'EUR' for the Euro).\n",
    "2. An amount in the given currency.\n",
    "\n",
    "The function should convert and return the amount in US dollars.\n",
    "\n",
    "**Example Usage:**\n",
    "\n",
    "```python\n",
    "curconv('EUR', 100)\n",
    "122.96544\n",
    "\n",
    "```python\n",
    "curconv('JPY', 100)\n",
    "1.241401\n",
    "\n",
    "\n",
    "The currency rates you will need for the conversion are provided below:\n",
    "\n",
    "AUD 1.0345157 Australian Dollar\n",
    "CHF 1.0237414 Swiss Franc\n",
    "CNY 0.1550176 Chinese Yuan\n",
    "DKK 0.1651442 Danish Krone\n",
    "EUR 1.2296544 Euro\n",
    "GBP 1.5550989 British Pound\n",
    "HKD 0.1270207 Hong Kong Dollar\n",
    "INR 0.0177643 Indian Rupee\n",
    "JPY 0.01241401 Japanese Yen\n",
    "MXN 0.0751848 Mexican Peso\n",
    "MYR 0.3145411 Malaysian Ringgit\n",
    "NOK 0.1677063 Norwegian Krone\n",
    "NZD 0.8003591 New Zealand Dollar\n",
    "PHP 0.0233234 Philippine Peso\n",
    "SEK 0.148269 Swedish Krona\n",
    "SGD 0.788871 Singapore Dollar\n",
    "THB 0.0313789 Thai Baht"
   ]
  },
  {
   "cell_type": "code",
   "execution_count": 5,
   "id": "5a40662c",
   "metadata": {
    "dotnet_interactive": {
     "language": "csharp"
    },
    "polyglot_notebook": {
     "kernelName": "csharp"
    }
   },
   "outputs": [
    {
     "name": "stdout",
     "output_type": "stream",
     "text": [
      "122.96544\n",
      "1.241401\n"
     ]
    }
   ],
   "source": [
    "# reference : https://stackoverflow.com/questions/32608338/splitting-lines-with-from-an-infile-in-python\n",
    "\n",
    "\n",
    "import re  # importing REGEX library for refgularisation\n",
    "\n",
    "def curconv(cur, amount):\n",
    "    currency_dict = {}\n",
    "    \n",
    "    # Open the 'currencies.txt' file \n",
    "    with open(\"currencies.txt\", \"r\") as infile:\n",
    "        for line in infile:\n",
    "            parts = re.split(r'\\s+', line.strip())\n",
    "            if len(parts) >= 2:\n",
    "                currency_code = parts[0]\n",
    "                exchange_rate = float(parts[1])\n",
    "                currency_dict[currency_code] = exchange_rate\n",
    "    \n",
    "    if cur in currency_dict:\n",
    "        return amount * currency_dict[cur]\n",
    "    else:\n",
    "        return \"Currency code not found\"\n",
    "\n",
    "# printing results\n",
    "usd_value1 = curconv('EUR', 100)\n",
    "print(usd_value1)  # Output currency for EUR\n",
    "\n",
    "usd_value2 = curconv('JPY', 100)\n",
    "print(usd_value2)  # Output currency for JPY\n"
   ]
  },
  {
   "cell_type": "code",
   "execution_count": null,
   "id": "507c92f6",
   "metadata": {},
   "outputs": [],
   "source": []
  },
  {
   "cell_type": "markdown",
   "id": "0c4e7500",
   "metadata": {},
   "source": [
    "### Question 9:\n",
    "\n",
    "### Identifying Exception Types\n",
    "\n",
    "In Python, different types of exceptions can occur when there are errors in your code. Let's identify the types of exceptions that will be raised in the following scenarios:\n",
    "\n",
    "1. Trying to add incompatible variables, as in adding `6 + 'a'`: This will cause a `TypeError` because you cannot add an integer to a string.\n",
    "\n",
    "2. Referring to the 12th item of a list that has only 10 items: This will cause an `IndexError` because you are trying to access an index that is out of range for the list.\n",
    "\n",
    "3. Using a value that is out of range for a function's input, such as calling `math.sqrt(-1.0)`: This will cause a `ValueError` because you cannot compute the square root of a negative number using `math.sqrt()`.\n",
    "\n",
    "4. Using an undeclared variable, such as `print(x)` when `x` has not been defined: This will cause a `NameError` because the variable `x` has not been defined or declared before its use.\n",
    "\n",
    "5. Trying to open a file that does not exist, such as mistyping the file name or looking in the wrong directory: This will cause a `FileNotFoundError` because the file you are trying to open does not exist in the specified location.\n",
    "\n",
    "These exception types provide valuable information to help you identify and address errors in your Python code.\n"
   ]
  },
  {
   "cell_type": "code",
   "execution_count": 6,
   "metadata": {
    "dotnet_interactive": {
     "language": "csharp"
    },
    "polyglot_notebook": {
     "kernelName": "csharp"
    }
   },
   "outputs": [
    {
     "name": "stdout",
     "output_type": "stream",
     "text": [
      "Exception encountered: unsupported operand type(s) for +: 'int' and 'str'\n",
      "Exception encountered: list index out of range\n",
      "Exception encountered: math domain error\n",
      "Exception encountered: name 'x' is not defined\n",
      "Exception encountered: [Errno 2] No such file or directory: 'non_existent_file.txt'\n"
     ]
    }
   ],
   "source": [
    "import math\n",
    "\n",
    "# Type 1: adding incompatible variables\n",
    "try:\n",
    "    result = 6 + 'a'\n",
    "except TypeError as e:\n",
    "    print(f\"Exception encountered: {e}\")\n",
    "    \n",
    "# Type 2: Referring to the 12th item of a list that has only 10 items\n",
    "try:\n",
    "    my_list = [1, 2, 3, 4, 5, 6, 7, 8, 9, 10]\n",
    "    item = my_list[11]\n",
    "except IndexError as e:\n",
    "    print(f\"Exception encountered: {e}\")\n",
    "\n",
    "# Type 3: Using a value is out of range for a function's input\n",
    "try:\n",
    "    square_root = math.sqrt(-1.0)\n",
    "except ValueError as e:\n",
    "    print(f\"Exception encountered: {e}\")\n",
    "\n",
    "# Type 4:  undeclared variable\n",
    "try:\n",
    "    print(x)\n",
    "except NameError as e:\n",
    "    print(f\"Exception encountered: {e}\")\n",
    "\n",
    "# Type 5: opening a file that does not exist\n",
    "try:\n",
    "    with open('non_existent_file.txt', 'r') as file:\n",
    "        content = file.read()\n",
    "except FileNotFoundError as e:\n",
    "    print(f\"Exception encountered: {e}\")\n"
   ]
  },
  {
   "cell_type": "code",
   "execution_count": null,
   "id": "dd6360c2",
   "metadata": {},
   "outputs": [],
   "source": []
  },
  {
   "cell_type": "markdown",
   "id": "ef7894b5",
   "metadata": {},
   "source": [
    "### Question 10:\n",
    "### Character Frequencies\n",
    "\n",
    "Encryption is the process of hiding the meaning of a text by substituting letters in the \n",
    "message with other letters, according to some system. If the process is successful, no \n",
    "one but the intended recipient can understand the encrypted message. Cryptanalysis \n",
    "refers to attempts to undo the encryption, even if some details of the encryption are \n",
    "unknown (for example, if an encrypted message has been intercepted). The first step \n",
    "of cryptanalysis is often to build up a table of letter frequencies in the encrypted text.\n",
    "\n",
    "Assume that the string letters is already defined as \n",
    "'abcdefghijklmnopqrstuvwxyz'. Write a function called frequencies() \n",
    "that takes a string as its only parameter, and returns a list of integers, showing the \n",
    "number of times each character appears in the text. Your function may ignore any \n",
    "characters that are not in letters.\n",
    "\n",
    "```python\n",
    "frequencies('The quick red fox got bored and went home.')\n",
    "[1, 1, 1, 3, 5, 1, 1, 2, 1, 0, 1, 0, 1, 2, 4, 0, 1, 2, 0, 2, 1, 0, 1, 1, 0, 0]\n",
    "\n",
    "```python\n",
    "frequencies('apple') \n"
   ]
  },
  {
   "cell_type": "code",
   "execution_count": 7,
   "id": "fffb8b8a",
   "metadata": {
    "dotnet_interactive": {
     "language": "csharp"
    },
    "polyglot_notebook": {
     "kernelName": "csharp"
    }
   },
   "outputs": [
    {
     "name": "stdout",
     "output_type": "stream",
     "text": [
      "[1, 1, 1, 3, 5, 1, 1, 2, 1, 0, 1, 0, 1, 2, 4, 0, 1, 2, 0, 3, 1, 0, 1, 1, 0, 0]\n"
     ]
    }
   ],
   "source": [
    "def frequencies(input_string):\n",
    "    # Define the letters string\n",
    "    letters = 'abcdefghijklmnopqrstuvwxyz'\n",
    "    \n",
    "    # Initialize a list to store the frequencies of each character\n",
    "    frequency_list = [0] * len(letters)\n",
    "    \n",
    "    # Convert the input string to lowercase to handele easily\n",
    "    input_string = input_string.lower()\n",
    "    \n",
    "    for char in input_string:\n",
    "        # if the character is in the letters string\n",
    "        if char in letters:\n",
    "            # Increment frequency in the list\n",
    "            index = letters.index(char)\n",
    "            frequency_list[index] += 1\n",
    "    \n",
    "    return frequency_list\n",
    "\n",
    "# frequencies('The quick red fox got bored and went home.')\n",
    "print(frequencies('The quick red fox got bored and went home.'))"
   ]
  },
  {
   "cell_type": "code",
   "execution_count": 8,
   "metadata": {
    "dotnet_interactive": {
     "language": "csharp"
    },
    "polyglot_notebook": {
     "kernelName": "csharp"
    }
   },
   "outputs": [
    {
     "name": "stdout",
     "output_type": "stream",
     "text": [
      "[1, 0, 0, 0, 1, 0, 0, 0, 0, 0, 0, 1, 0, 0, 0, 2, 0, 0, 0, 0, 0, 0, 0, 0, 0, 0]\n"
     ]
    }
   ],
   "source": [
    "\n",
    "# frequencies('apple') Results \n",
    "print(frequencies('apple'))"
   ]
  }
 ],
 "metadata": {
  "kernelspec": {
   "display_name": "Python 3",
   "language": "python",
   "name": "python3"
  },
  "language_info": {
   "codemirror_mode": {
    "name": "ipython",
    "version": 3
   },
   "file_extension": ".py",
   "mimetype": "text/x-python",
   "name": "python",
   "nbconvert_exporter": "python",
   "pygments_lexer": "ipython3",
   "version": "3.11.1"
  },
  "polyglot_notebook": {
   "kernelInfo": {
    "defaultKernelName": "csharp",
    "items": [
     {
      "aliases": [],
      "name": "csharp"
     }
    ]
   }
  }
 },
 "nbformat": 4,
 "nbformat_minor": 5
}
